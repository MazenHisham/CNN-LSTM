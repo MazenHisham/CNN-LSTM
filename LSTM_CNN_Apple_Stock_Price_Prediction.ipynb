{
  "nbformat": 4,
  "nbformat_minor": 0,
  "metadata": {
    "colab": {
      "provenance": []
    },
    "kernelspec": {
      "name": "python3",
      "display_name": "Python 3"
    },
    "language_info": {
      "name": "python"
    }
  },
  "cells": [
    {
      "cell_type": "code",
      "source": [
        "import pandas as pd\n",
        "import numpy as np\n",
        "import os\n",
        "import torch\n",
        "import torch.nn as nn\n",
        "import torch.optim as optim\n",
        "from torch.utils.data import Dataset, DataLoader\n",
        "from sklearn.preprocessing import MinMaxScaler\n",
        "from sklearn.metrics import mean_absolute_error\n",
        "import matplotlib.pyplot as plt\n",
        "import kagglehub"
      ],
      "metadata": {
        "id": "1rb-g8FS2QT2"
      },
      "execution_count": 48,
      "outputs": []
    },
    {
      "cell_type": "code",
      "source": [
        "device = torch.device('cuda' if torch.cuda.is_available() else 'cpu')\n",
        "print(\"Using device:\", device)"
      ],
      "metadata": {
        "colab": {
          "base_uri": "https://localhost:8080/"
        },
        "id": "mMqH9e2Z2QST",
        "outputId": "18182192-4265-4a69-b4b1-c774bb22f663"
      },
      "execution_count": 23,
      "outputs": [
        {
          "output_type": "stream",
          "name": "stdout",
          "text": [
            "Using device: cpu\n"
          ]
        }
      ]
    },
    {
      "cell_type": "code",
      "source": [
        "df = pd.read_csv(\"HistoricalQuotes.csv\")\n",
        "\n",
        "df.columns = df.columns.str.strip()\n",
        "\n",
        "df.rename(columns={\n",
        "    'Close/Last': 'Close',\n",
        "    'Volume': 'Volume',\n",
        "    'Open': 'Open',\n",
        "    'High': 'High',\n",
        "    'Low': 'Low'\n",
        "}, inplace=True)\n",
        "\n",
        "for col in ['Close', 'Open', 'High', 'Low']:\n",
        "    df[col] = df[col].replace({'\\$': ''}, regex=True).astype(float)\n",
        "\n",
        "df['Volume'] = pd.to_numeric(df['Volume'], errors='coerce')\n",
        "\n",
        "df['Date'] = pd.to_datetime(df['Date'])\n",
        "df.sort_values('Date', inplace=True)\n",
        "df.reset_index(drop=True, inplace=True)\n",
        "\n",
        "print(df.head())"
      ],
      "metadata": {
        "colab": {
          "base_uri": "https://localhost:8080/"
        },
        "id": "nCAdELII2QQu",
        "outputId": "96d46cd6-688d-45fa-fddc-f87c03bec89e"
      },
      "execution_count": 40,
      "outputs": [
        {
          "output_type": "stream",
          "name": "stdout",
          "text": [
            "        Date    Close     Volume     Open     High      Low\n",
            "0 2010-03-01  29.8557  137312041  29.3928  29.9286  29.3500\n",
            "1 2010-03-02  29.8357  141486282  29.9900  30.1186  29.6771\n",
            "2 2010-03-03  29.9043   92846488  29.8486  29.9814  29.7057\n",
            "3 2010-03-04  30.1014   89591907  29.8971  30.1314  29.8043\n",
            "4 2010-03-05  31.2786  224647427  30.7057  31.3857  30.6614\n"
          ]
        }
      ]
    },
    {
      "cell_type": "code",
      "source": [
        "feature_cols = ['Open', 'High', 'Low', 'Close', 'Volume']\n",
        "df_features = df[feature_cols].values\n",
        "target_col_index = feature_cols.index('Close')\n",
        "\n",
        "scaler = MinMaxScaler()\n",
        "scaled_features = scaler.fit_transform(df_features)"
      ],
      "metadata": {
        "id": "B3hBVVgVDid_"
      },
      "execution_count": 49,
      "outputs": []
    },
    {
      "cell_type": "code",
      "source": [
        "def create_sequences(data, seq_length, target_idx):\n",
        "    X_seqs, y_seqs = [], []\n",
        "    for i in range(len(data) - seq_length):\n",
        "        X_seq = data[i : i + seq_length]\n",
        "        y_seq = data[i + seq_length, target_idx]\n",
        "        X_seqs.append(X_seq)\n",
        "        y_seqs.append(y_seq)\n",
        "    return np.array(X_seqs), np.array(y_seqs)\n",
        "\n",
        "seq_length = 100\n",
        "X, y = create_sequences(scaled_features, seq_length, target_col_index)"
      ],
      "metadata": {
        "id": "4jInSf972QPL"
      },
      "execution_count": 51,
      "outputs": []
    },
    {
      "cell_type": "code",
      "source": [
        "train_size = int(len(X) * 0.8)\n",
        "X_train, X_test = X[:train_size], X[train_size:]\n",
        "y_train, y_test = y[:train_size], y[train_size:]"
      ],
      "metadata": {
        "id": "ur6RfLU52QMB"
      },
      "execution_count": 52,
      "outputs": []
    },
    {
      "cell_type": "code",
      "source": [
        "train_size = int(len(X) * 0.8)\n",
        "X_train, X_test = X[:train_size], X[train_size:]\n",
        "y_train, y_test = y[:train_size], y[train_size:]\n",
        "\n",
        "print(f\"Train set shape: {X_train.shape}, Test set shape: {X_test.shape}\")"
      ],
      "metadata": {
        "colab": {
          "base_uri": "https://localhost:8080/"
        },
        "id": "EXTHlKHb2QKf",
        "outputId": "43f14b3a-5647-4309-aa04-08666d8525e8"
      },
      "execution_count": 44,
      "outputs": [
        {
          "output_type": "stream",
          "name": "stdout",
          "text": [
            "Train set shape: (1990, 30, 5), Test set shape: (498, 30, 5)\n"
          ]
        }
      ]
    },
    {
      "cell_type": "code",
      "source": [
        "class TimeSeriesDataset(Dataset):\n",
        "    def __init__(self, X, y):\n",
        "        self.X = torch.tensor(X, dtype=torch.float32)\n",
        "        self.y = torch.tensor(y, dtype=torch.float32)\n",
        "\n",
        "    def __len__(self):\n",
        "        return len(self.X)\n",
        "\n",
        "    def __getitem__(self, idx):\n",
        "        return self.X[idx], self.y[idx]"
      ],
      "metadata": {
        "id": "df-tiopA2QI5"
      },
      "execution_count": 53,
      "outputs": []
    },
    {
      "cell_type": "code",
      "source": [
        "model.fit(X_train, y_train, epochs=15, batch_size=32, validation_data=(X_test, y_test))\n"
      ],
      "metadata": {
        "colab": {
          "base_uri": "https://localhost:8080/"
        },
        "id": "hyU6V77f2QHX",
        "outputId": "6af8ede8-3e4b-4168-baa8-b0b403b5ee4b"
      },
      "execution_count": 46,
      "outputs": [
        {
          "output_type": "stream",
          "name": "stdout",
          "text": [
            "Epoch 1/15\n",
            "\u001b[1m63/63\u001b[0m \u001b[32m━━━━━━━━━━━━━━━━━━━━\u001b[0m\u001b[37m\u001b[0m \u001b[1m10s\u001b[0m 85ms/step - loss: 0.0095 - val_loss: 0.0056\n",
            "Epoch 2/15\n",
            "\u001b[1m63/63\u001b[0m \u001b[32m━━━━━━━━━━━━━━━━━━━━\u001b[0m\u001b[37m\u001b[0m \u001b[1m6s\u001b[0m 90ms/step - loss: 8.0984e-04 - val_loss: 0.0021\n",
            "Epoch 3/15\n",
            "\u001b[1m63/63\u001b[0m \u001b[32m━━━━━━━━━━━━━━━━━━━━\u001b[0m\u001b[37m\u001b[0m \u001b[1m4s\u001b[0m 55ms/step - loss: 6.8910e-04 - val_loss: 0.0017\n",
            "Epoch 4/15\n",
            "\u001b[1m63/63\u001b[0m \u001b[32m━━━━━━━━━━━━━━━━━━━━\u001b[0m\u001b[37m\u001b[0m \u001b[1m3s\u001b[0m 40ms/step - loss: 6.1645e-04 - val_loss: 0.0020\n",
            "Epoch 5/15\n",
            "\u001b[1m63/63\u001b[0m \u001b[32m━━━━━━━━━━━━━━━━━━━━\u001b[0m\u001b[37m\u001b[0m \u001b[1m3s\u001b[0m 45ms/step - loss: 7.1704e-04 - val_loss: 7.9734e-04\n",
            "Epoch 6/15\n",
            "\u001b[1m63/63\u001b[0m \u001b[32m━━━━━━━━━━━━━━━━━━━━\u001b[0m\u001b[37m\u001b[0m \u001b[1m4s\u001b[0m 35ms/step - loss: 5.8537e-04 - val_loss: 0.0016\n",
            "Epoch 7/15\n",
            "\u001b[1m63/63\u001b[0m \u001b[32m━━━━━━━━━━━━━━━━━━━━\u001b[0m\u001b[37m\u001b[0m \u001b[1m2s\u001b[0m 34ms/step - loss: 5.1165e-04 - val_loss: 0.0015\n",
            "Epoch 8/15\n",
            "\u001b[1m63/63\u001b[0m \u001b[32m━━━━━━━━━━━━━━━━━━━━\u001b[0m\u001b[37m\u001b[0m \u001b[1m2s\u001b[0m 32ms/step - loss: 5.0729e-04 - val_loss: 0.0013\n",
            "Epoch 9/15\n",
            "\u001b[1m63/63\u001b[0m \u001b[32m━━━━━━━━━━━━━━━━━━━━\u001b[0m\u001b[37m\u001b[0m \u001b[1m4s\u001b[0m 51ms/step - loss: 4.2562e-04 - val_loss: 0.0032\n",
            "Epoch 10/15\n",
            "\u001b[1m63/63\u001b[0m \u001b[32m━━━━━━━━━━━━━━━━━━━━\u001b[0m\u001b[37m\u001b[0m \u001b[1m2s\u001b[0m 33ms/step - loss: 4.5017e-04 - val_loss: 0.0015\n",
            "Epoch 11/15\n",
            "\u001b[1m63/63\u001b[0m \u001b[32m━━━━━━━━━━━━━━━━━━━━\u001b[0m\u001b[37m\u001b[0m \u001b[1m2s\u001b[0m 31ms/step - loss: 5.1186e-04 - val_loss: 0.0018\n",
            "Epoch 12/15\n",
            "\u001b[1m63/63\u001b[0m \u001b[32m━━━━━━━━━━━━━━━━━━━━\u001b[0m\u001b[37m\u001b[0m \u001b[1m3s\u001b[0m 32ms/step - loss: 3.9721e-04 - val_loss: 7.8942e-04\n",
            "Epoch 13/15\n",
            "\u001b[1m63/63\u001b[0m \u001b[32m━━━━━━━━━━━━━━━━━━━━\u001b[0m\u001b[37m\u001b[0m \u001b[1m2s\u001b[0m 34ms/step - loss: 3.5556e-04 - val_loss: 0.0011\n",
            "Epoch 14/15\n",
            "\u001b[1m63/63\u001b[0m \u001b[32m━━━━━━━━━━━━━━━━━━━━\u001b[0m\u001b[37m\u001b[0m \u001b[1m4s\u001b[0m 51ms/step - loss: 3.8839e-04 - val_loss: 0.0012\n",
            "Epoch 15/15\n",
            "\u001b[1m63/63\u001b[0m \u001b[32m━━━━━━━━━━━━━━━━━━━━\u001b[0m\u001b[37m\u001b[0m \u001b[1m4s\u001b[0m 32ms/step - loss: 2.9735e-04 - val_loss: 0.0016\n"
          ]
        },
        {
          "output_type": "execute_result",
          "data": {
            "text/plain": [
              "<keras.src.callbacks.history.History at 0x7e55d909d590>"
            ]
          },
          "metadata": {},
          "execution_count": 46
        }
      ]
    },
    {
      "cell_type": "code",
      "source": [
        "batch_size = 32\n",
        "train_loader = DataLoader(TimeSeriesDataset(X_train, y_train), batch_size=batch_size, shuffle=True)\n",
        "test_loader  = DataLoader(TimeSeriesDataset(X_test, y_test), batch_size=batch_size, shuffle=False)\n"
      ],
      "metadata": {
        "id": "7BmgspIw2QFx"
      },
      "execution_count": 54,
      "outputs": []
    },
    {
      "cell_type": "code",
      "source": [
        "class LSTMCNNModel(nn.Module):\n",
        "    def __init__(self, num_features, lstm_hidden_size=64, cnn_channels=32, num_layers=1):\n",
        "        super(LSTMCNNModel, self).__init__()\n",
        "        self.lstm = nn.LSTM(input_size=num_features,\n",
        "                            hidden_size=lstm_hidden_size,\n",
        "                            num_layers=num_layers,\n",
        "                            batch_first=True,\n",
        "                            dropout=0.0,\n",
        "                            bidirectional=False)\n",
        "        self.conv1d = nn.Conv1d(in_channels=lstm_hidden_size,\n",
        "                                out_channels=cnn_channels,\n",
        "                                kernel_size=3,\n",
        "                                padding=1)\n",
        "        self.fc = nn.Linear(cnn_channels, 1)\n",
        "\n",
        "    def forward(self, x):\n",
        "        lstm_out, _ = self.lstm(x)\n",
        "        lstm_out = lstm_out.transpose(1, 2)\n",
        "        conv_out = self.conv1d(lstm_out)\n",
        "        pooled = torch.mean(conv_out, dim=2)\n",
        "        out = self.fc(pooled)\n",
        "        return out.squeeze()\n"
      ],
      "metadata": {
        "id": "B0c0geny06Tw"
      },
      "execution_count": 55,
      "outputs": []
    },
    {
      "cell_type": "code",
      "source": [
        "num_features = X_train.shape[2]\n",
        "model = LSTMCNNModel(num_features=num_features).to(device)"
      ],
      "metadata": {
        "id": "Wizo2XPj2nRF"
      },
      "execution_count": 57,
      "outputs": []
    },
    {
      "cell_type": "code",
      "source": [
        "num_epochs = 101\n",
        "criterion = nn.MSELoss()\n",
        "optimizer = optim.Adam(model.parameters(), lr=0.001)\n",
        "\n",
        "train_loss_list = []\n",
        "train_mae_list = []"
      ],
      "metadata": {
        "id": "ePtVo3rX2nPh"
      },
      "execution_count": 58,
      "outputs": []
    },
    {
      "cell_type": "code",
      "source": [
        "for epoch in range(num_epochs):\n",
        "    model.train()\n",
        "    epoch_loss = 0.0\n",
        "    epoch_preds, epoch_targets = [], []\n",
        "\n",
        "    for X_batch, y_batch in train_loader:\n",
        "        X_batch, y_batch = X_batch.to(device), y_batch.to(device)\n",
        "\n",
        "        optimizer.zero_grad()\n",
        "        outputs = model(X_batch)\n",
        "        loss = criterion(outputs, y_batch)\n",
        "        loss.backward()\n",
        "        optimizer.step()\n",
        "\n",
        "        epoch_loss += loss.item() * X_batch.size(0)\n",
        "        epoch_preds.append(outputs.detach().cpu().numpy())\n",
        "        epoch_targets.append(y_batch.detach().cpu().numpy())\n",
        "\n",
        "    epoch_loss /= len(train_loader.dataset)\n",
        "    train_loss_list.append(epoch_loss)\n",
        "\n",
        "    all_preds = np.concatenate(epoch_preds)\n",
        "    all_targets = np.concatenate(epoch_targets)\n",
        "    epoch_mae = mean_absolute_error(all_targets, all_preds)\n",
        "    train_mae_list.append(epoch_mae)\n",
        "\n",
        "    if (epoch + 1) % 10 == 0:\n",
        "        print(f\"Epoch [{epoch + 1}/{num_epochs}] - Loss: {epoch_loss:.6f}, MAE: {epoch_mae:.6f}\")\n",
        "\n",
        "print(\"Training complete!\")\n"
      ],
      "metadata": {
        "colab": {
          "base_uri": "https://localhost:8080/"
        },
        "id": "T0Xdvf2z2nN9",
        "outputId": "4e7ef98b-341a-4530-b881-defebeef5115"
      },
      "execution_count": 59,
      "outputs": [
        {
          "output_type": "stream",
          "name": "stdout",
          "text": [
            "Epoch [10/101] - Loss: 0.000721, MAE: 0.020870\n",
            "Epoch [20/101] - Loss: 0.000685, MAE: 0.020347\n",
            "Epoch [30/101] - Loss: 0.000723, MAE: 0.020800\n",
            "Epoch [40/101] - Loss: 0.000724, MAE: 0.021044\n",
            "Epoch [50/101] - Loss: 0.000693, MAE: 0.020569\n",
            "Epoch [60/101] - Loss: 0.000692, MAE: 0.020543\n",
            "Epoch [70/101] - Loss: 0.000670, MAE: 0.020251\n",
            "Epoch [80/101] - Loss: 0.000687, MAE: 0.020475\n",
            "Epoch [90/101] - Loss: 0.000678, MAE: 0.020579\n",
            "Epoch [100/101] - Loss: 0.000614, MAE: 0.019264\n",
            "Training complete!\n"
          ]
        }
      ]
    },
    {
      "cell_type": "code",
      "source": [
        "model.eval()\n",
        "test_loss = 0.0\n",
        "all_preds, all_targets = [], []\n",
        "\n",
        "with torch.no_grad():\n",
        "    for X_batch, y_batch in test_loader:\n",
        "        X_batch, y_batch = X_batch.to(device), y_batch.to(device)\n",
        "        preds = model(X_batch)\n",
        "        loss = criterion(preds, y_batch)\n",
        "        test_loss += loss.item() * X_batch.size(0)\n",
        "        all_preds.append(preds.cpu().numpy())\n",
        "        all_targets.append(y_batch.cpu().numpy())\n",
        "\n",
        "test_loss /= len(test_loader.dataset)\n",
        "rmse = np.sqrt(test_loss)\n",
        "print(f\"Test RMSE: {rmse:.6f}\")\n"
      ],
      "metadata": {
        "colab": {
          "base_uri": "https://localhost:8080/"
        },
        "id": "swT1wgjw2nMZ",
        "outputId": "14524b45-18f8-47d8-e807-dae57d498131"
      },
      "execution_count": 60,
      "outputs": [
        {
          "output_type": "stream",
          "name": "stdout",
          "text": [
            "Test RMSE: 0.074551\n"
          ]
        }
      ]
    },
    {
      "cell_type": "code",
      "source": [
        "all_preds = np.concatenate(all_preds)\n",
        "all_targets = np.concatenate(all_targets)\n",
        "\n",
        "plt.figure(figsize=(10, 5))\n",
        "plt.plot(all_targets, label='Actual')\n",
        "plt.plot(all_preds, label='Predicted')\n",
        "plt.title('Actual vs. Predicted Close Prices (AAPL)')\n",
        "plt.legend()\n",
        "plt.grid(True)\n",
        "plt.tight_layout()\n",
        "plt.show()"
      ],
      "metadata": {
        "colab": {
          "base_uri": "https://localhost:8080/",
          "height": 501
        },
        "id": "rvfSr9n22nK1",
        "outputId": "3dfbc0f7-4aed-4adc-8b8e-1592a627515a"
      },
      "execution_count": 61,
      "outputs": [
        {
          "output_type": "display_data",
          "data": {
            "text/plain": [
              "<Figure size 1000x500 with 1 Axes>"
            ],
            "image/png": "[encoded data removed]"
          },
          "metadata": {}
        }
      ]
    }
  ]
}